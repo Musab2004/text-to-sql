{
 "cells": [
  {
   "cell_type": "code",
   "execution_count": 28,
   "metadata": {},
   "outputs": [],
   "source": [
    "!pip install llama-index-llms-openai python-dotenv llama-index gradio > installs.txt"
   ]
  },
  {
   "cell_type": "code",
   "execution_count": 6,
   "metadata": {},
   "outputs": [],
   "source": [
    "from dotenv import load_dotenv\n",
    "import os\n",
    "\n",
    "load_dotenv()\n",
    "api_key = os.getenv(\"OPENAI_API_KEY\")"
   ]
  },
  {
   "cell_type": "code",
   "execution_count": 34,
   "metadata": {},
   "outputs": [
    {
     "name": "stdout",
     "output_type": "stream",
     "text": [
      "Running on local URL:  http://127.0.0.1:7868\n",
      "\n",
      "To create a public link, set `share=True` in `launch()`.\n"
     ]
    },
    {
     "data": {
      "text/html": [
       "<div><iframe src=\"http://127.0.0.1:7868/\" width=\"100%\" height=\"500\" allow=\"autoplay; camera; microphone; clipboard-read; clipboard-write;\" frameborder=\"0\" allowfullscreen></iframe></div>"
      ],
      "text/plain": [
       "<IPython.core.display.HTML object>"
      ]
     },
     "metadata": {},
     "output_type": "display_data"
    },
    {
     "data": {
      "text/plain": []
     },
     "execution_count": 34,
     "metadata": {},
     "output_type": "execute_result"
    }
   ],
   "source": [
    "import gradio as gr\n",
    "from llama_index.core import SQLDatabase\n",
    "from llama_index.llms.openai import OpenAI\n",
    "from sqlalchemy import create_engine, MetaData, Table, Column, String, Integer, select\n",
    "from IPython.display import Markdown, display\n",
    "from llama_index.core.query_engine import NLSQLTableQueryEngine\n",
    "\n",
    "# Define the function to execute the query\n",
    "def execute_query(tables, query_str):\n",
    "    db_file_path = \"company.db\"\n",
    "    engine = create_engine(f\"sqlite:///{db_file_path}\")\n",
    "    llm = OpenAI(temperature=0.1, model=\"gpt-3.5-turbo\")\n",
    "    sql_database = SQLDatabase(engine, include_tables=tables)\n",
    "    query_engine = NLSQLTableQueryEngine(\n",
    "        sql_database=sql_database, tables=tables, llm=llm,\n",
    "    )\n",
    "    response = query_engine.query(query_str)\n",
    "    response_text = str(response)\n",
    "    sql_query = response.metadata['sql_query']\n",
    "    return response_text, sql_query\n",
    "\n",
    "iface = gr.Interface(\n",
    "    fn=execute_query,\n",
    "    inputs=[\n",
    "        gr.CheckboxGroup([\"employees\", \"salaries\", \"projects\", \"departments\"], label=\"Select tables\"),\n",
    "        gr.Textbox(lines=2, placeholder=\"Enter your query string\"),\n",
    "    ],\n",
    "    outputs=[\n",
    "        gr.Textbox(label=\"Response\"),\n",
    "        gr.Textbox(label=\"SQL Query\"),\n",
    "    ],\n",
    "    title=\"Natural Language to SQL Query Engine\",\n",
    "    description=\"Enter the table names, query string, and your SQLAlchemy engine string to execute the query.\",\n",
    ")\n",
    "\n",
    "iface.launch()\n"
   ]
  },
  {
   "cell_type": "code",
   "execution_count": null,
   "metadata": {},
   "outputs": [],
   "source": []
  }
 ],
 "metadata": {
  "kernelspec": {
   "display_name": ".venv",
   "language": "python",
   "name": "python3"
  },
  "language_info": {
   "codemirror_mode": {
    "name": "ipython",
    "version": 3
   },
   "file_extension": ".py",
   "mimetype": "text/x-python",
   "name": "python",
   "nbconvert_exporter": "python",
   "pygments_lexer": "ipython3",
   "version": "3.10.12"
  }
 },
 "nbformat": 4,
 "nbformat_minor": 2
}

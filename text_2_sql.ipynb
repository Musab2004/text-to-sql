{
 "cells": [
  {
   "cell_type": "code",
   "execution_count": 11,
   "metadata": {},
   "outputs": [],
   "source": [
    "!pip install openai pandas langchain >installs.txt"
   ]
  },
  {
   "cell_type": "code",
   "execution_count": 5,
   "metadata": {},
   "outputs": [],
   "source": [
    "from dotenv import load_dotenv\n",
    "import os\n",
    "\n",
    "load_dotenv()\n",
    "api_key = os.getenv(\"OPENAI_API_KEY\")"
   ]
  },
  {
   "cell_type": "code",
   "execution_count": 1,
   "metadata": {},
   "outputs": [],
   "source": [
    "import sqlite3\n",
    "\n",
    "# Connect to the SQLite database\n",
    "conn = sqlite3.connect('company.db')\n",
    "cursor = conn.cursor()"
   ]
  },
  {
   "cell_type": "code",
   "execution_count": 51,
   "metadata": {},
   "outputs": [
    {
     "name": "stdout",
     "output_type": "stream",
     "text": [
      "Query :  SELECT FirstName, LastName, Salary\n",
      "FROM employees\n",
      "ORDER BY Salary DESC\n",
      "LIMIT 5;\n"
     ]
    }
   ],
   "source": [
    "import sqlite3\n",
    "import openai\n",
    "from openai import OpenAI\n",
    "import pandas as pd\n",
    "import re\n",
    "client = OpenAI()\n",
    "def ask_sqlite_question(db_path, table, question, openai_api_key, model=\"gpt-3.5-turbo\", temperature=0, max_tokens=256, frequency_penalty=0, presence_penalty=0):\n",
    "    def get_table_schema():\n",
    "        conn = sqlite3.connect(db_path)\n",
    "        cursor = conn.execute(f\"PRAGMA table_info({table})\")\n",
    "        col_attr = cursor.fetchall()\n",
    "        col_names = [col[1] for col in col_attr]\n",
    "        col_types = [col[2] for col in col_attr]\n",
    "        col_joint = [f\"{name} {ctype}\" for name, ctype in zip(col_names, col_types)]\n",
    "        \n",
    "        schema = \", \".join(col_joint)\n",
    "        conn.close()\n",
    "        return schema, col_names\n",
    "    def extract_sql_string(code):\n",
    "        match = re.search(r\"```sql\\s*(.*?)\\s*```\", code, re.DOTALL)\n",
    "        return match.group(1).strip() if match else \"\"\n",
    "    schema, col_names = get_table_schema()\n",
    "    \n",
    "    system_template = \"\"\"\n",
    "    Given the following SQL table, your job is to write queries given a user’s request. \\n\n",
    "    CREATE TABLE {} ({}) \\n\n",
    "    \"\"\"\n",
    "    user_template = \"Write a SQL query that returns - {}\"\n",
    "\n",
    "    system_message = system_template.format(table, schema)\n",
    "    user_message = user_template.format(question)\n",
    "    messages = [\n",
    "        {\"role\": \"system\", \"content\": system_message},\n",
    "        {\"role\": \"user\", \"content\": user_message}\n",
    "    ]\n",
    "\n",
    "    openai.api_key = openai_api_key\n",
    "    response = client.chat.completions.create(\n",
    "        model=model,\n",
    "        messages=messages,\n",
    "        temperature=temperature,\n",
    "        max_tokens=max_tokens,\n",
    "        frequency_penalty=frequency_penalty,\n",
    "        presence_penalty=presence_penalty\n",
    "    )\n",
    "\n",
    "    query = response.choices[0].message.content\n",
    "    query=extract_sql_string(query)\n",
    "    conn = sqlite3.connect(db_path)\n",
    "    print(\"Query : \",query)\n",
    "    cursor.execute(query)\n",
    "    result = cursor.fetchall()\n",
    "    conn.close()\n",
    "    \n",
    "    return result\n",
    "\n",
    "result = ask_sqlite_question(db_path=\"company.db\", table=\"employees\", question=\"Show me the top 5 highest-paid employees?\", openai_api_key=\"your_openai_api_key\")\n"
   ]
  },
  {
   "cell_type": "code",
   "execution_count": 52,
   "metadata": {},
   "outputs": [
    {
     "name": "stdout",
     "output_type": "stream",
     "text": [
      "[('Alex', 'Johnson', 200000), ('Jane', 'Doe', 95000), ('David', 'Jones', 95000), ('Robert', 'Rodriguez', 95000), ('Richard', 'Gonzalez', 95000)]\n"
     ]
    }
   ],
   "source": [
    "print(result)"
   ]
  },
  {
   "cell_type": "code",
   "execution_count": 4,
   "metadata": {},
   "outputs": [
    {
     "name": "stdout",
     "output_type": "stream",
     "text": [
      "Running on local URL:  http://127.0.0.1:7862\n",
      "\n",
      "To create a public link, set `share=True` in `launch()`.\n"
     ]
    },
    {
     "data": {
      "text/html": [
       "<div><iframe src=\"http://127.0.0.1:7862/\" width=\"100%\" height=\"500\" allow=\"autoplay; camera; microphone; clipboard-read; clipboard-write;\" frameborder=\"0\" allowfullscreen></iframe></div>"
      ],
      "text/plain": [
       "<IPython.core.display.HTML object>"
      ]
     },
     "metadata": {},
     "output_type": "display_data"
    },
    {
     "data": {
      "text/plain": []
     },
     "execution_count": 4,
     "metadata": {},
     "output_type": "execute_result"
    }
   ],
   "source": [
    "import sqlite3\n",
    "import openai\n",
    "from openai import OpenAI\n",
    "import pandas as pd\n",
    "import re\n",
    "import gradio as gr\n",
    "\n",
    "client = OpenAI()\n",
    "\n",
    "def ask_sqlite_question(db_path, table, question, openai_api_key, model=\"gpt-3.5-turbo\", temperature=0, max_tokens=256, frequency_penalty=0, presence_penalty=0):\n",
    "    def get_table_schema():\n",
    "        conn = sqlite3.connect(db_path)\n",
    "        cursor = conn.execute(f\"PRAGMA table_info({table})\")\n",
    "        col_attr = cursor.fetchall()\n",
    "        col_names = [col[1] for col in col_attr]\n",
    "        col_types = [col[2] for col in col_attr]\n",
    "        col_joint = [f\"{name} {ctype}\" for name, ctype in zip(col_names, col_types)]\n",
    "        schema = \", \".join(col_joint)\n",
    "        conn.close()\n",
    "        return schema, col_names\n",
    "\n",
    "    def extract_sql_string(code):\n",
    "        match = re.search(r\"```sql\\s*(.*?)\\s*```\", code, re.DOTALL)\n",
    "        return match.group(1).strip() if match else \"\"\n",
    "\n",
    "    schema, col_names = get_table_schema()\n",
    "    \n",
    "    system_template = \"\"\"\n",
    "    Given the following SQL table, your job is to write queries given a user’s request. \\n\n",
    "    CREATE TABLE {} ({}) \\n\n",
    "    \"\"\"\n",
    "    user_template = \"Write a SQL query that returns - {}\"\n",
    "\n",
    "    system_message = system_template.format(table, schema)\n",
    "    user_message = user_template.format(question)\n",
    "    messages = [\n",
    "        {\"role\": \"system\", \"content\": system_message},\n",
    "        {\"role\": \"user\", \"content\": user_message}\n",
    "    ]\n",
    "\n",
    "    openai.api_key = openai_api_key\n",
    "    response = client.chat.completions.create(\n",
    "        model=model,\n",
    "        messages=messages,\n",
    "        temperature=temperature,\n",
    "        max_tokens=max_tokens,\n",
    "        frequency_penalty=frequency_penalty,\n",
    "        presence_penalty=presence_penalty\n",
    "    )\n",
    "\n",
    "    query = response.choices[0].message.content\n",
    "    query = extract_sql_string(query)\n",
    "    \n",
    "    conn = sqlite3.connect(db_path)\n",
    "    cursor = conn.cursor()\n",
    "    cursor.execute(query)\n",
    "    result = cursor.fetchall()\n",
    "    conn.close()\n",
    "    \n",
    "    return query, result\n",
    "\n",
    "def gradio_interface(db_path, table, openai_api_key, question):\n",
    "    query, result = ask_sqlite_question(db_path, table, question, openai_api_key)\n",
    "    # result_df = pd.DataFrame(result, columns=[desc[0] for desc in cursor.description])\n",
    "    return query, result\n",
    "\n",
    "db_path = \"company.db\"\n",
    "table = \"employees\"\n",
    "openai_api_key = \"your_openai_api_key\"\n",
    "\n",
    "gr.Interface(\n",
    "    fn=lambda query: gradio_interface(db_path, table, openai_api_key, query),\n",
    "    inputs=\"text\",\n",
    "    outputs=[\n",
    "        gr.outputs.Textbox(label=\"Generated SQL Query\"),\n",
    "        gr.outputs.Textbox(label=\"Query Result\")\n",
    "    ],\n",
    "    title=\"SQLite Query Generator\",\n",
    "    description=\"Enter your query in plain English and get the corresponding SQL query and results from the database.\"\n",
    ").launch()\n"
   ]
  }
 ],
 "metadata": {
  "kernelspec": {
   "display_name": "second_env",
   "language": "python",
   "name": "second_env"
  },
  "language_info": {
   "codemirror_mode": {
    "name": "ipython",
    "version": 3
   },
   "file_extension": ".py",
   "mimetype": "text/x-python",
   "name": "python",
   "nbconvert_exporter": "python",
   "pygments_lexer": "ipython3",
   "version": "3.10.12"
  }
 },
 "nbformat": 4,
 "nbformat_minor": 2
}

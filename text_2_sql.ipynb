{
 "cells": [
  {
   "cell_type": "code",
   "execution_count": 1,
   "metadata": {},
   "outputs": [],
   "source": [
    "!pip install openai python-dotenv gradio pandas langchain >installs.txt"
   ]
  },
  {
   "cell_type": "code",
   "execution_count": 2,
   "metadata": {},
   "outputs": [],
   "source": [
    "from dotenv import load_dotenv\n",
    "import os\n",
    "\n",
    "load_dotenv()\n",
    "api_key = os.getenv(\"OPENAI_API_KEY\")"
   ]
  },
  {
   "cell_type": "code",
   "execution_count": 3,
   "metadata": {},
   "outputs": [],
   "source": [
    "import sqlite3\n",
    "\n",
    "# Connect to the SQLite database\n",
    "conn = sqlite3.connect('company.db')\n",
    "cursor = conn.cursor()"
   ]
  },
  {
   "cell_type": "code",
   "execution_count": 4,
   "metadata": {},
   "outputs": [
    {
     "name": "stderr",
     "output_type": "stream",
     "text": [
      "/home/musab/text-to-sql/.venv/lib/python3.10/site-packages/tqdm/auto.py:21: TqdmWarning: IProgress not found. Please update jupyter and ipywidgets. See https://ipywidgets.readthedocs.io/en/stable/user_install.html\n",
      "  from .autonotebook import tqdm as notebook_tqdm\n"
     ]
    },
    {
     "name": "stdout",
     "output_type": "stream",
     "text": [
      "Running on local URL:  http://127.0.0.1:7864\n",
      "\n",
      "To create a public link, set `share=True` in `launch()`.\n"
     ]
    },
    {
     "data": {
      "text/html": [
       "<div><iframe src=\"http://127.0.0.1:7864/\" width=\"100%\" height=\"500\" allow=\"autoplay; camera; microphone; clipboard-read; clipboard-write;\" frameborder=\"0\" allowfullscreen></iframe></div>"
      ],
      "text/plain": [
       "<IPython.core.display.HTML object>"
      ]
     },
     "metadata": {},
     "output_type": "display_data"
    },
    {
     "data": {
      "text/plain": []
     },
     "execution_count": 4,
     "metadata": {},
     "output_type": "execute_result"
    }
   ],
   "source": [
    "import sqlite3\n",
    "import openai\n",
    "from openai import OpenAI\n",
    "import pandas as pd\n",
    "import re\n",
    "import gradio as gr\n",
    "\n",
    "client = OpenAI()\n",
    "\n",
    "def ask_sqlite_question(db_path, table, question, openai_api_key, model=\"gpt-3.5-turbo\", temperature=0, max_tokens=256, frequency_penalty=0, presence_penalty=0):\n",
    "    def get_table_schema():\n",
    "        conn = sqlite3.connect(db_path)\n",
    "        cursor = conn.execute(f\"PRAGMA table_info({table})\")\n",
    "        col_attr = cursor.fetchall()\n",
    "        col_names = [col[1] for col in col_attr]\n",
    "        col_types = [col[2] for col in col_attr]\n",
    "        col_joint = [f\"{name} {ctype}\" for name, ctype in zip(col_names, col_types)]\n",
    "        schema = \", \".join(col_joint)\n",
    "        conn.close()\n",
    "        return schema, col_names\n",
    "\n",
    "    def extract_sql_string(code):\n",
    "        match = re.search(r\"```sql\\s*(.*?)\\s*```\", code, re.DOTALL)\n",
    "        return match.group(1).strip() if match else \"\"\n",
    "\n",
    "    schema, col_names = get_table_schema()\n",
    "    \n",
    "    system_template = \"\"\"\n",
    "    Given the following SQL table, your job is to write queries given a user’s request. \\n\n",
    "    CREATE TABLE {} ({}) \\n\n",
    "    \"\"\"\n",
    "    user_template = \"Write a SQL query that returns - {}\"\n",
    "\n",
    "    system_message = system_template.format(table, schema)\n",
    "    user_message = user_template.format(question)\n",
    "    messages = [\n",
    "        {\"role\": \"system\", \"content\": system_message},\n",
    "        {\"role\": \"user\", \"content\": user_message}\n",
    "    ]\n",
    "\n",
    "    openai.api_key = openai_api_key\n",
    "    response = client.chat.completions.create(\n",
    "        model=model,\n",
    "        messages=messages,\n",
    "        temperature=temperature,\n",
    "        max_tokens=max_tokens,\n",
    "        frequency_penalty=frequency_penalty,\n",
    "        presence_penalty=presence_penalty\n",
    "    )\n",
    "\n",
    "    query = response.choices[0].message.content\n",
    "    query = extract_sql_string(query)\n",
    "    \n",
    "    conn = sqlite3.connect(db_path)\n",
    "    cursor = conn.cursor()\n",
    "    cursor.execute(query)\n",
    "    result = cursor.fetchall()\n",
    "    conn.close()\n",
    "    \n",
    "    return query, result\n",
    "\n",
    "def gradio_interface(db_path, table, openai_api_key, question):\n",
    "    query, result = ask_sqlite_question(db_path, table, question, openai_api_key)\n",
    "    # result_df = pd.DataFrame(result, columns=[desc[0] for desc in cursor.description])\n",
    "    return query, result\n",
    "\n",
    "db_path = \"company.db\"\n",
    "table = \"employees\"\n",
    "openai_api_key = \"your_openai_api_key\"\n",
    "\n",
    "gr.Interface(\n",
    "    fn=lambda query: gradio_interface(db_path, table, openai_api_key, query),\n",
    "    inputs=\"text\",\n",
    "    outputs=[\n",
    "        gr.Textbox(label=\"Generated SQL Query\"),\n",
    "        gr.Textbox(label=\"Query Result\")\n",
    "    ],\n",
    "    title=\"SQLite Query Generator\",\n",
    "    description=\"Enter your query in plain English and get the corresponding SQL query and results from the database.\"\n",
    ").launch()\n"
   ]
  },
  {
   "cell_type": "code",
   "execution_count": 6,
   "metadata": {},
   "outputs": [
    {
     "name": "stdout",
     "output_type": "stream",
     "text": [
      "Running on local URL:  http://127.0.0.1:7866\n",
      "\n",
      "To create a public link, set `share=True` in `launch()`.\n"
     ]
    },
    {
     "data": {
      "text/html": [
       "<div><iframe src=\"http://127.0.0.1:7866/\" width=\"100%\" height=\"500\" allow=\"autoplay; camera; microphone; clipboard-read; clipboard-write;\" frameborder=\"0\" allowfullscreen></iframe></div>"
      ],
      "text/plain": [
       "<IPython.core.display.HTML object>"
      ]
     },
     "metadata": {},
     "output_type": "display_data"
    },
    {
     "data": {
      "text/plain": []
     },
     "execution_count": 6,
     "metadata": {},
     "output_type": "execute_result"
    }
   ],
   "source": [
    "import sqlite3\n",
    "import openai\n",
    "from openai import OpenAI\n",
    "import pandas as pd\n",
    "import re\n",
    "import gradio as gr\n",
    "\n",
    "client = OpenAI()\n",
    "\n",
    "def ask_sqlite_question(db_path, table, question, openai_api_key, model=\"gpt-3.5-turbo\", temperature=0, max_tokens=256, frequency_penalty=0, presence_penalty=0):\n",
    "    def get_table_schema():\n",
    "        conn = sqlite3.connect(db_path)\n",
    "        cursor = conn.execute(f\"PRAGMA table_info({table})\")\n",
    "        col_attr = cursor.fetchall()\n",
    "        col_names = [col[1] for col in col_attr]\n",
    "        col_types = [col[2] for col in col_attr]\n",
    "        col_joint = [f\"{name} {ctype}\" for name, ctype in zip(col_names, col_types)]\n",
    "        schema = \", \".join(col_joint)\n",
    "        conn.close()\n",
    "        return schema, col_names\n",
    "\n",
    "    def extract_sql_string(code):\n",
    "        match = re.search(r\"```sql\\s*(.*?)\\s*```\", code, re.DOTALL)\n",
    "        return match.group(1).strip() if match else \"\"\n",
    "\n",
    "    schema, col_names = get_table_schema()\n",
    "    \n",
    "    system_template = \"\"\"\n",
    "    Given the following SQL table, your job is to write queries given a user’s request. \\n\n",
    "    CREATE TABLE {} ({}) \\n\n",
    "    \"\"\"\n",
    "    user_template = \"Write a SQL query that returns - {}\"\n",
    "\n",
    "    system_message = system_template.format(table, schema)\n",
    "    user_message = user_template.format(question)\n",
    "    messages = [\n",
    "        {\"role\": \"system\", \"content\": system_message},\n",
    "        {\"role\": \"user\", \"content\": user_message}\n",
    "    ]\n",
    "\n",
    "    openai.api_key = openai_api_key\n",
    "    response = client.chat.completions.create(\n",
    "        model=model,\n",
    "        messages=messages,\n",
    "        temperature=temperature,\n",
    "        max_tokens=max_tokens,\n",
    "        frequency_penalty=frequency_penalty,\n",
    "        presence_penalty=presence_penalty\n",
    "    )\n",
    "\n",
    "    query = response.choices[0].message.content\n",
    "    query = extract_sql_string(query)\n",
    "    \n",
    "    return query\n",
    "\n",
    "def optimize_sql_query(query, openai_api_key, model=\"gpt-3.5-turbo\", temperature=0, max_tokens=256, frequency_penalty=0, presence_penalty=0):\n",
    "    system_message = \"Given the following SQL query, analyze this query and suggest optimizations to improve performance:\\n\"\n",
    "    user_message = query\n",
    "    messages = [\n",
    "        {\"role\": \"system\", \"content\": system_message},\n",
    "        {\"role\": \"user\", \"content\": user_message}\n",
    "    ]\n",
    "\n",
    "    openai.api_key = openai_api_key\n",
    "    response = client.chat.completions.create(\n",
    "        model=model,\n",
    "        messages=messages,\n",
    "        temperature=temperature,\n",
    "        max_tokens=max_tokens,\n",
    "        frequency_penalty=frequency_penalty,\n",
    "        presence_penalty=presence_penalty\n",
    "    )\n",
    "\n",
    "    optimization_suggestions = response.choices[0].message.content.strip()\n",
    "    \n",
    "    return optimization_suggestions\n",
    "\n",
    "def execute_sql_query(db_path, query):\n",
    "    conn = sqlite3.connect(db_path)\n",
    "    cursor = conn.cursor()\n",
    "    cursor.execute(query)\n",
    "    result = cursor.fetchall()\n",
    "    conn.close()\n",
    "    return result\n",
    "\n",
    "def gradio_interface(db_path, table, openai_api_key, question, query_suggestion):\n",
    "    query = ask_sqlite_question(db_path, table, question, openai_api_key)\n",
    "    result = execute_sql_query(db_path, query)\n",
    "    optimization_suggestions = optimize_sql_query(query, openai_api_key)\n",
    "    return query, result, optimization_suggestions\n",
    "\n",
    "db_path = \"company.db\"\n",
    "table = \"employees\"\n",
    "openai_api_key = \"your_openai_api_key\"\n",
    "\n",
    "\n",
    "gr.Interface(\n",
    "    fn=lambda query, query_suggestion: gradio_interface(db_path, table, openai_api_key, query, query_suggestion),\n",
    "    inputs=[\n",
    "        gr.Textbox(label=\"Custom Query\", placeholder=\"Enter your custom SQL query here...\"),\n",
    "    ],\n",
    "    outputs=[\n",
    "        gr.Textbox(label=\"Generated SQL Query\"),\n",
    "        gr.Textbox(label=\"Query Result\"),\n",
    "        gr.Textbox(label=\"Optimization Suggestions\")\n",
    "    ],\n",
    "    title=\"SQLite Query Generator with Suggestions and Optimization\",\n",
    "    description=\"Enter your query in plain English or select a suggested query to get the corresponding SQL query, results from the database, and optimization suggestions.\"\n",
    ").launch()\n"
   ]
  }
 ],
 "metadata": {
  "kernelspec": {
   "display_name": ".venv",
   "language": "python",
   "name": "python3"
  },
  "language_info": {
   "codemirror_mode": {
    "name": "ipython",
    "version": 3
   },
   "file_extension": ".py",
   "mimetype": "text/x-python",
   "name": "python",
   "nbconvert_exporter": "python",
   "pygments_lexer": "ipython3",
   "version": "3.10.12"
  }
 },
 "nbformat": 4,
 "nbformat_minor": 2
}

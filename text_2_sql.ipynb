{
 "cells": [
  {
   "cell_type": "code",
   "execution_count": 5,
   "metadata": {},
   "outputs": [],
   "source": [
    "!pip install openai python-dotenv gradio pandas langchain >installs.txt"
   ]
  },
  {
   "cell_type": "code",
   "execution_count": 6,
   "metadata": {},
   "outputs": [],
   "source": [
    "from dotenv import load_dotenv\n",
    "import os\n",
    "\n",
    "load_dotenv()\n",
    "api_key = os.getenv(\"OPENAI_API_KEY\")"
   ]
  },
  {
   "cell_type": "code",
   "execution_count": 7,
   "metadata": {},
   "outputs": [],
   "source": [
    "import sqlite3\n",
    "\n",
    "# Connect to the SQLite database\n",
    "conn = sqlite3.connect('company.db')\n",
    "cursor = conn.cursor()"
   ]
  },
  {
   "cell_type": "code",
   "execution_count": 8,
   "metadata": {},
   "outputs": [
    {
     "name": "stdout",
     "output_type": "stream",
     "text": [
      "Query :  SELECT FirstName, LastName, Salary\n",
      "FROM employees\n",
      "ORDER BY Salary DESC\n",
      "LIMIT 5;\n"
     ]
    }
   ],
   "source": [
    "import sqlite3\n",
    "import openai\n",
    "from openai import OpenAI\n",
    "import pandas as pd\n",
    "import re\n",
    "client = OpenAI()\n",
    "def ask_sqlite_question(db_path, table, question, openai_api_key, model=\"gpt-3.5-turbo\", temperature=0, max_tokens=256, frequency_penalty=0, presence_penalty=0):\n",
    "    def get_table_schema():\n",
    "        conn = sqlite3.connect(db_path)\n",
    "        cursor = conn.execute(f\"PRAGMA table_info({table})\")\n",
    "        col_attr = cursor.fetchall()\n",
    "        col_names = [col[1] for col in col_attr]\n",
    "        col_types = [col[2] for col in col_attr]\n",
    "        col_joint = [f\"{name} {ctype}\" for name, ctype in zip(col_names, col_types)]\n",
    "        \n",
    "        schema = \", \".join(col_joint)\n",
    "        conn.close()\n",
    "        return schema, col_names\n",
    "    def extract_sql_string(code):\n",
    "        match = re.search(r\"```sql\\s*(.*?)\\s*```\", code, re.DOTALL)\n",
    "        return match.group(1).strip() if match else \"\"\n",
    "    schema, col_names = get_table_schema()\n",
    "    \n",
    "    system_template = \"\"\"\n",
    "    Given the following SQL table, your job is to write queries given a user’s request. \\n\n",
    "    CREATE TABLE {} ({}) \\n\n",
    "    \"\"\"\n",
    "    user_template = \"Write a SQL query that returns - {}\"\n",
    "\n",
    "    system_message = system_template.format(table, schema)\n",
    "    user_message = user_template.format(question)\n",
    "    messages = [\n",
    "        {\"role\": \"system\", \"content\": system_message},\n",
    "        {\"role\": \"user\", \"content\": user_message}\n",
    "    ]\n",
    "\n",
    "    openai.api_key = openai_api_key\n",
    "    response = client.chat.completions.create(\n",
    "        model=model,\n",
    "        messages=messages,\n",
    "        temperature=temperature,\n",
    "        max_tokens=max_tokens,\n",
    "        frequency_penalty=frequency_penalty,\n",
    "        presence_penalty=presence_penalty\n",
    "    )\n",
    "\n",
    "    query = response.choices[0].message.content\n",
    "    query=extract_sql_string(query)\n",
    "    conn = sqlite3.connect(db_path)\n",
    "    print(\"Query : \",query)\n",
    "    cursor.execute(query)\n",
    "    result = cursor.fetchall()\n",
    "    conn.close()\n",
    "    \n",
    "    return result\n",
    "\n",
    "result = ask_sqlite_question(db_path=\"company.db\", table=\"employees\", question=\"Show me the top 5 highest-paid employees?\", openai_api_key=\"your_openai_api_key\")\n"
   ]
  },
  {
   "cell_type": "code",
   "execution_count": 9,
   "metadata": {},
   "outputs": [
    {
     "name": "stdout",
     "output_type": "stream",
     "text": [
      "[('Alex', 'Johnson', 200000), ('Jane', 'Doe', 95000), ('David', 'Jones', 95000), ('Robert', 'Rodriguez', 95000), ('Richard', 'Gonzalez', 95000)]\n"
     ]
    }
   ],
   "source": [
    "print(result)"
   ]
  },
  {
   "cell_type": "code",
   "execution_count": 10,
   "metadata": {},
   "outputs": [
    {
     "ename": "ModuleNotFoundError",
     "evalue": "No module named 'gradio'",
     "output_type": "error",
     "traceback": [
      "\u001b[0;31m---------------------------------------------------------------------------\u001b[0m",
      "\u001b[0;31mModuleNotFoundError\u001b[0m                       Traceback (most recent call last)",
      "Cell \u001b[0;32mIn[10], line 6\u001b[0m\n\u001b[1;32m      4\u001b[0m \u001b[38;5;28;01mimport\u001b[39;00m \u001b[38;5;21;01mpandas\u001b[39;00m \u001b[38;5;28;01mas\u001b[39;00m \u001b[38;5;21;01mpd\u001b[39;00m\n\u001b[1;32m      5\u001b[0m \u001b[38;5;28;01mimport\u001b[39;00m \u001b[38;5;21;01mre\u001b[39;00m\n\u001b[0;32m----> 6\u001b[0m \u001b[38;5;28;01mimport\u001b[39;00m \u001b[38;5;21;01mgradio\u001b[39;00m \u001b[38;5;28;01mas\u001b[39;00m \u001b[38;5;21;01mgr\u001b[39;00m\n\u001b[1;32m      8\u001b[0m client \u001b[38;5;241m=\u001b[39m OpenAI()\n\u001b[1;32m     10\u001b[0m \u001b[38;5;28;01mdef\u001b[39;00m \u001b[38;5;21mask_sqlite_question\u001b[39m(db_path, table, question, openai_api_key, model\u001b[38;5;241m=\u001b[39m\u001b[38;5;124m\"\u001b[39m\u001b[38;5;124mgpt-3.5-turbo\u001b[39m\u001b[38;5;124m\"\u001b[39m, temperature\u001b[38;5;241m=\u001b[39m\u001b[38;5;241m0\u001b[39m, max_tokens\u001b[38;5;241m=\u001b[39m\u001b[38;5;241m256\u001b[39m, frequency_penalty\u001b[38;5;241m=\u001b[39m\u001b[38;5;241m0\u001b[39m, presence_penalty\u001b[38;5;241m=\u001b[39m\u001b[38;5;241m0\u001b[39m):\n",
      "\u001b[0;31mModuleNotFoundError\u001b[0m: No module named 'gradio'"
     ]
    }
   ],
   "source": [
    "import sqlite3\n",
    "import openai\n",
    "from openai import OpenAI\n",
    "import pandas as pd\n",
    "import re\n",
    "import gradio as gr\n",
    "\n",
    "client = OpenAI()\n",
    "\n",
    "def ask_sqlite_question(db_path, table, question, openai_api_key, model=\"gpt-3.5-turbo\", temperature=0, max_tokens=256, frequency_penalty=0, presence_penalty=0):\n",
    "    def get_table_schema():\n",
    "        conn = sqlite3.connect(db_path)\n",
    "        cursor = conn.execute(f\"PRAGMA table_info({table})\")\n",
    "        col_attr = cursor.fetchall()\n",
    "        col_names = [col[1] for col in col_attr]\n",
    "        col_types = [col[2] for col in col_attr]\n",
    "        col_joint = [f\"{name} {ctype}\" for name, ctype in zip(col_names, col_types)]\n",
    "        schema = \", \".join(col_joint)\n",
    "        conn.close()\n",
    "        return schema, col_names\n",
    "\n",
    "    def extract_sql_string(code):\n",
    "        match = re.search(r\"```sql\\s*(.*?)\\s*```\", code, re.DOTALL)\n",
    "        return match.group(1).strip() if match else \"\"\n",
    "\n",
    "    schema, col_names = get_table_schema()\n",
    "    \n",
    "    system_template = \"\"\"\n",
    "    Given the following SQL table, your job is to write queries given a user’s request. \\n\n",
    "    CREATE TABLE {} ({}) \\n\n",
    "    \"\"\"\n",
    "    user_template = \"Write a SQL query that returns - {}\"\n",
    "\n",
    "    system_message = system_template.format(table, schema)\n",
    "    user_message = user_template.format(question)\n",
    "    messages = [\n",
    "        {\"role\": \"system\", \"content\": system_message},\n",
    "        {\"role\": \"user\", \"content\": user_message}\n",
    "    ]\n",
    "\n",
    "    openai.api_key = openai_api_key\n",
    "    response = client.chat.completions.create(\n",
    "        model=model,\n",
    "        messages=messages,\n",
    "        temperature=temperature,\n",
    "        max_tokens=max_tokens,\n",
    "        frequency_penalty=frequency_penalty,\n",
    "        presence_penalty=presence_penalty\n",
    "    )\n",
    "\n",
    "    query = response.choices[0].message.content\n",
    "    query = extract_sql_string(query)\n",
    "    \n",
    "    conn = sqlite3.connect(db_path)\n",
    "    cursor = conn.cursor()\n",
    "    cursor.execute(query)\n",
    "    result = cursor.fetchall()\n",
    "    conn.close()\n",
    "    \n",
    "    return query, result\n",
    "\n",
    "def gradio_interface(db_path, table, openai_api_key, question):\n",
    "    query, result = ask_sqlite_question(db_path, table, question, openai_api_key)\n",
    "    # result_df = pd.DataFrame(result, columns=[desc[0] for desc in cursor.description])\n",
    "    return query, result\n",
    "\n",
    "db_path = \"company.db\"\n",
    "table = \"employees\"\n",
    "openai_api_key = \"your_openai_api_key\"\n",
    "\n",
    "gr.Interface(\n",
    "    fn=lambda query: gradio_interface(db_path, table, openai_api_key, query),\n",
    "    inputs=\"text\",\n",
    "    outputs=[\n",
    "        gr.outputs.Textbox(label=\"Generated SQL Query\"),\n",
    "        gr.outputs.Textbox(label=\"Query Result\")\n",
    "    ],\n",
    "    title=\"SQLite Query Generator\",\n",
    "    description=\"Enter your query in plain English and get the corresponding SQL query and results from the database.\"\n",
    ").launch()\n"
   ]
  }
 ],
 "metadata": {
  "kernelspec": {
   "display_name": ".venv",
   "language": "python",
   "name": "python3"
  },
  "language_info": {
   "codemirror_mode": {
    "name": "ipython",
    "version": 3
   },
   "file_extension": ".py",
   "mimetype": "text/x-python",
   "name": "python",
   "nbconvert_exporter": "python",
   "pygments_lexer": "ipython3",
   "version": "3.10.12"
  }
 },
 "nbformat": 4,
 "nbformat_minor": 2
}
